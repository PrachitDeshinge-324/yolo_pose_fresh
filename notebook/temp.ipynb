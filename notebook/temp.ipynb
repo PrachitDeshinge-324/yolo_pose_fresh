{
 "cells": [
  {
   "cell_type": "code",
   "execution_count": 2,
   "id": "963a72a9",
   "metadata": {},
   "outputs": [
    {
     "name": "stdout",
     "output_type": "stream",
     "text": [
      "(320, 8)\n"
     ]
    }
   ],
   "source": [
    "# Load the npy file \n",
    "import numpy as np\n",
    "\n",
    "data = np.load('../results3/3c_frame_features.npy', allow_pickle=True)\n",
    "# Print the shape of the data\n",
    "print(data.shape)"
   ]
  },
  {
   "cell_type": "code",
   "execution_count": null,
   "id": "b344a532",
   "metadata": {},
   "outputs": [],
   "source": []
  }
 ],
 "metadata": {
  "kernelspec": {
   "display_name": "pose",
   "language": "python",
   "name": "python3"
  },
  "language_info": {
   "codemirror_mode": {
    "name": "ipython",
    "version": 3
   },
   "file_extension": ".py",
   "mimetype": "text/x-python",
   "name": "python",
   "nbconvert_exporter": "python",
   "pygments_lexer": "ipython3",
   "version": "3.9.21"
  }
 },
 "nbformat": 4,
 "nbformat_minor": 5
}
